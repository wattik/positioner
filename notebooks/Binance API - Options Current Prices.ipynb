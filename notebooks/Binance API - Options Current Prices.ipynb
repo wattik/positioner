{
 "cells": [
  {
   "cell_type": "code",
   "execution_count": 1,
   "metadata": {},
   "outputs": [],
   "source": [
    "import requests\n",
    "import pandas as pd\n",
    "import datetime\n",
    "import numpy as np\n",
    "from progressbar import progressbar"
   ]
  },
  {
   "cell_type": "code",
   "execution_count": 2,
   "metadata": {},
   "outputs": [],
   "source": [
    "URL_BASE = \"https://vapi.binance.com\""
   ]
  },
  {
   "cell_type": "code",
   "execution_count": 3,
   "metadata": {},
   "outputs": [],
   "source": [
    "def expiryDate(year, month, day, hour=9):\n",
    "        return int(datetime.datetime(year=year, month=month, day=day, hour=hour).timestamp() * 1000)\n",
    "    \n",
    "def toExpiryDate(ts):\n",
    "        dt = datetime.datetime.fromtimestamp(ts / 1000)\n",
    "        return dt.strftime(\"%y%m%d\")"
   ]
  },
  {
   "cell_type": "markdown",
   "metadata": {},
   "source": [
    "# Demo Usage"
   ]
  },
  {
   "cell_type": "code",
   "execution_count": 10,
   "metadata": {},
   "outputs": [],
   "source": [
    "response = requests.get(URL_BASE + \"/vapi/v1/optionInfo\")\n",
    "data = response.json()\n",
    "option_info = pd.DataFrame(data[\"data\"])"
   ]
  },
  {
   "cell_type": "code",
   "execution_count": 11,
   "metadata": {},
   "outputs": [
    {
     "name": "stdout",
     "output_type": "stream",
     "text": [
      "200\n",
      "{'indexPrice': '52661.42604'}\n"
     ]
    }
   ],
   "source": [
    "response = requests.get(URL_BASE + \"/vapi/v1/index\", params={\"underlying\": \"BTCUSDT\"})\n",
    "print(response.status_code)\n",
    "index_price = response.json()[\"data\"]\n",
    "print(index_price)"
   ]
  },
  {
   "cell_type": "code",
   "execution_count": 12,
   "metadata": {},
   "outputs": [
    {
     "name": "stdout",
     "output_type": "stream",
     "text": [
      "200\n",
      "{'symbol': 'BTC-210326-60000-C', 'priceChange': '37.35', 'priceChangePercent': '0.5747', 'lastPrice': '102.35', 'lastQty': '0.01', 'open': '65', 'high': '200', 'low': '65', 'volume': '1.6217', 'amount': '144.2124', 'openTime': 0, 'closeTime': 1616614710318, 'firstTradeId': 0, 'tradeCount': 7, 'strikePrice': '60000', 'expectedExercisePrice': '0'}\n"
     ]
    }
   ],
   "source": [
    "response = requests.get(URL_BASE + \"/vapi/v1/ticker\", params={\"symbol\": f\"BTC-{EXPIRE_DATE}-60000-C\"})\n",
    "print(response.status_code)\n",
    "ticker = response.json()[\"data\"][0]\n",
    "print(ticker)"
   ]
  },
  {
   "cell_type": "code",
   "execution_count": 13,
   "metadata": {},
   "outputs": [
    {
     "name": "stdout",
     "output_type": "stream",
     "text": [
      "200\n",
      "[{'symbol': 'BTC-210326-60000-C', 'markPrice': '69.01', 'bidIV': '1.0495', 'askIV': '1.3718', 'delta': '0.04402', 'theta': '-131.85087', 'gamma': '0.00003', 'vega': '3.02558', 'volatility': '1.2106', 'highPriceLimit': '2083.31', 'lowPriceLimit': '0.01'}]\n"
     ]
    }
   ],
   "source": [
    "response = requests.get(URL_BASE + \"/vapi/v1/mark\", params={\"symbol\": f\"BTC-{EXPIRE_DATE}-60000-C\"})\n",
    "print(response.status_code)\n",
    "mark = response.json()[\"data\"]\n",
    "print(mark)"
   ]
  },
  {
   "cell_type": "code",
   "execution_count": 14,
   "metadata": {},
   "outputs": [
    {
     "name": "stdout",
     "output_type": "stream",
     "text": [
      "200\n"
     ]
    },
    {
     "data": {
      "text/plain": [
       "{'bids': [['30', '0.01'],\n",
       "  ['22.63', '0.01'],\n",
       "  ['10', '0.2'],\n",
       "  ['2', '0.1'],\n",
       "  ['1.07', '0.9246']],\n",
       " 'asks': [['127.56', '0.02'],\n",
       "  ['127.57', '1.1005'],\n",
       "  ['162', '1.2151'],\n",
       "  ['235', '0.001'],\n",
       "  ['325', '0.4929'],\n",
       "  ['495', '0.01'],\n",
       "  ['2000', '0.01'],\n",
       "  ['3000', '1.01'],\n",
       "  ['4000', '0.01'],\n",
       "  ['4600', '0.002'],\n",
       "  ['4888', '0.025'],\n",
       "  ['5000', '0.103'],\n",
       "  ['15000', '0.025']]}"
      ]
     },
     "execution_count": 14,
     "metadata": {},
     "output_type": "execute_result"
    }
   ],
   "source": [
    "response = requests.get(URL_BASE + \"/vapi/v1/depth\", params={\"symbol\": f\"BTC-{EXPIRE_DATE}-60000-C\"})\n",
    "print(response.status_code)\n",
    "depth = response.json()[\"data\"]\n",
    "depth"
   ]
  },
  {
   "cell_type": "markdown",
   "metadata": {},
   "source": [
    "# Get Symbol Data"
   ]
  },
  {
   "cell_type": "code",
   "execution_count": 4,
   "metadata": {},
   "outputs": [],
   "source": [
    "def get_options_info():\n",
    "    response = requests.get(URL_BASE + \"/vapi/v1/optionInfo\")\n",
    "    data = response.json()\n",
    "    return pd.DataFrame(data[\"data\"])\n",
    "\n",
    "def get_index_price(underlying=\"BTCUSDT\"):\n",
    "    response = requests.get(URL_BASE + \"/vapi/v1/index\", params={\"underlying\": underlying})\n",
    "    assert response.status_code == 200\n",
    "    index_price = response.json()[\"data\"]\n",
    "    return index_price[\"indexPrice\"]\n",
    "    \n",
    "def get_mark(symbol):\n",
    "    response = requests.get(URL_BASE + \"/vapi/v1/mark\", params={\"symbol\": symbol}, allow_redirects=False)\n",
    "    assert response.status_code == 200\n",
    "    return response.json()[\"data\"][0]\n",
    "\n",
    "def get_ticker(symbol):\n",
    "    response = requests.get(URL_BASE + \"/vapi/v1/ticker\", params={\"symbol\": symbol}, allow_redirects=False)\n",
    "    assert response.status_code == 200\n",
    "    return response.json()[\"data\"][0]\n",
    "\n",
    "def get_orderbook(symbol):\n",
    "    response = requests.get(URL_BASE + \"/vapi/v1/depth\", params={\"symbol\": symbol, \"limit\": 1000})\n",
    "    assert response.status_code == 200\n",
    "    data = response.json().get(\"data\", {})\n",
    "    return {\n",
    "        \"asks\": data.get(\"asks\", []),\n",
    "        \"bids\": data.get(\"bids\", [])\n",
    "    }"
   ]
  },
  {
   "cell_type": "code",
   "execution_count": 5,
   "metadata": {},
   "outputs": [],
   "source": [
    "def repeat(n=10):\n",
    "    def decorator(f):\n",
    "        def wrapper(*args, **kwargs):\n",
    "            for i in range(n): \n",
    "                try:\n",
    "                    return f(*args, **kwargs)\n",
    "                except AssertionError:\n",
    "                    pass\n",
    "            raise Exception(\"Repeat Failed.\")\n",
    "        return wrapper\n",
    "    return decorator \n",
    "\n",
    "\n",
    "def decode_symbol(symbol):\n",
    "    asset, expiry, strike, t = symbol.split(\"-\")\n",
    "    return pd.Series({\n",
    "        \"asset\": asset,\n",
    "        \"expiry\": int(expiry),\n",
    "        \"optionType\": t,\n",
    "        \"strikePrice\": int(strike)\n",
    "    })\n",
    "\n",
    "def symbol_orderbook(symbol, repeats=10):\n",
    "    symbol_data = {\n",
    "        \"symbol\": symbol,\n",
    "        **decode_symbol(symbol)\n",
    "    }\n",
    "    order_book = repeat(n=10)(get_orderbook)(symbol)\n",
    "    \n",
    "    for price, qnty in order_book[\"asks\"]:\n",
    "        yield {\n",
    "            \"price\": price,\n",
    "            \"qnty\": qnty,\n",
    "            \"side\": \"ASK\",\n",
    "            **symbol_data\n",
    "        }\n",
    "        \n",
    "    for price, qnty in order_book[\"bids\"]:\n",
    "        yield {\n",
    "            \"price\": price,\n",
    "            \"qnty\": qnty,\n",
    "            \"side\": \"BID\",\n",
    "            **symbol_data\n",
    "        }\n",
    "        \n",
    "def symbols_orderbook(symbols, repeats=10):\n",
    "    for s in symbols:\n",
    "        yield from symbol_orderbook(s)"
   ]
  },
  {
   "cell_type": "code",
   "execution_count": 9,
   "metadata": {
    "scrolled": false
   },
   "outputs": [
    {
     "name": "stdout",
     "output_type": "stream",
     "text": [
      "210430 10\n",
      "210409 10\n"
     ]
    }
   ],
   "source": [
    "options_info = get_options_info()\n",
    "for date in options_info.expiryDate.unique():\n",
    "    print(toExpiryDate(date), datetime.datetime.fromtimestamp(date/1000).strftime(\"%H\"))"
   ]
  },
  {
   "cell_type": "code",
   "execution_count": 10,
   "metadata": {},
   "outputs": [],
   "source": [
    "expiry_dates = [\n",
    "    #expiryDate(year=2021, month=3, day=26, hour=9),\n",
    "    #expiryDate(year=2021, month=4, day=2, hour=10),\n",
    "    expiryDate(year=2021, month=4, day=9, hour=10),\n",
    "    expiryDate(year=2021, month=4, day=30, hour=10)\n",
    "]"
   ]
  },
  {
   "cell_type": "code",
   "execution_count": 11,
   "metadata": {},
   "outputs": [
    {
     "name": "stderr",
     "output_type": "stream",
     "text": [
      "| | #                                               | 155 Elapsed Time: 0:00:19\n",
      "| |                                             #   | 238 Elapsed Time: 0:00:24\n"
     ]
    }
   ],
   "source": [
    "for expiry_date in expiry_dates:\n",
    "    symbols = options_info[\n",
    "        options_info.expiryDate == expiry_date\n",
    "    ][\"symbol\"]\n",
    "\n",
    "\n",
    "    obs = []\n",
    "    for datarow in progressbar(symbols_orderbook(symbols)):\n",
    "        obs += [datarow] \n",
    "\n",
    "    symbol_df = pd.DataFrame(obs)\n",
    "    symbol_df[\"indexPrice\"] = get_index_price()\n",
    "\n",
    "    symbol_df.to_csv(f\"orderbook_snapshot_{toExpiryDate(expiry_date)}.csv\")"
   ]
  },
  {
   "cell_type": "code",
   "execution_count": null,
   "metadata": {},
   "outputs": [],
   "source": []
  },
  {
   "cell_type": "code",
   "execution_count": null,
   "metadata": {},
   "outputs": [],
   "source": []
  }
 ],
 "metadata": {
  "kernelspec": {
   "display_name": "Python 3",
   "language": "python",
   "name": "python3"
  },
  "language_info": {
   "codemirror_mode": {
    "name": "ipython",
    "version": 3
   },
   "file_extension": ".py",
   "mimetype": "text/x-python",
   "name": "python",
   "nbconvert_exporter": "python",
   "pygments_lexer": "ipython3",
   "version": "3.7.2"
  }
 },
 "nbformat": 4,
 "nbformat_minor": 2
}
